{
 "cells": [
  {
   "cell_type": "markdown",
   "metadata": {},
   "source": [
    "# \"The power of your mind is greater than the power of nuclear radiation.\" \n",
    "-Marianne Williamson https://twitter.com/marwilliamson/status/52594063161040898\n",
    "\n",
    "The average human brain consumes energy at a rate of ~20 Watts (https://hypertextbook.com/facts/2001/JacquelineLing.shtml) which is 10x greater rate per gram of tissue than the rest of the body!"
   ]
  },
  {
   "cell_type": "code",
   "execution_count": 5,
   "metadata": {},
   "outputs": [],
   "source": [
    "import math\n",
    "\n",
    "brain_power = 20 # Power of brain in Watts\n",
    "brain_power /= 1.6 * 10 ** -16 # Brain power in KeV/s"
   ]
  },
  {
   "cell_type": "markdown",
   "metadata": {},
   "source": [
    "Cesium-137 (a common radioisotope) has a half-life of 30.1 years, and releases ~1174 KeV upon decay into Barium-137 (typically 512 KeV are released in Beta decay, and the rest in Gamma decay https://en.wikipedia.org/wiki/Caesium-137"
   ]
  },
  {
   "cell_type": "code",
   "execution_count": 12,
   "metadata": {},
   "outputs": [
    {
     "name": "stdout",
     "output_type": "stream",
     "text": [
      "The brain consumes as much power as 106473594548551 decays of Cs-137 per second, or about 3434 Curies of Cs-137\n"
     ]
    }
   ],
   "source": [
    "Cs_T_half = 30.1 * 3.15 * 10**7 # Cs137 half-life in years\n",
    "lamda = math.log(2) / Cs_T_half\n",
    "Cs_Q = 1174 # Energy release of Cs decay in KeV\n",
    "\n",
    "Cs_rate = brain_power / Cs_Q\n",
    "Cs_rate_Ci = Cs_rate / (3.1 * 10 ** 10)\n",
    "print('The brain consumes as much power as %i decays of Cs-137 per second, or about %i Curies of Cs-137' \n",
    "      %(Cs_rate, Cs_rate_Ci))"
   ]
  },
  {
   "cell_type": "markdown",
   "metadata": {},
   "source": [
    "How much Cs-137 do we need to produce that much power?"
   ]
  },
  {
   "cell_type": "code",
   "execution_count": 14,
   "metadata": {},
   "outputs": [
    {
     "name": "stdout",
     "output_type": "stream",
     "text": [
      "The brain consumes as much power as is released by 145644303984121675251712 Cs-137 atoms\n",
      "The brain consumes as much power as is released by 33 grams of Cs-137\n"
     ]
    }
   ],
   "source": [
    "N_cs = Cs_rate / lamda # The activity of a sample is the product of its decay constant and the number of nuclides \n",
    "                       # present\n",
    "print('The brain consumes as much power as is released by %i Cs-137 atoms'%(N_cs))\n",
    "\n",
    "M_cs = N_cs / (6.022 * 10 ** 23) * 137\n",
    "\n",
    "print('The brain consumes as much power as is released by %i grams of Cs-137'%(M_cs))"
   ]
  },
  {
   "cell_type": "markdown",
   "metadata": {},
   "source": [
    "So there we have it, the brain (with a mass ~1 kg) consumes as much power as is released by just 33 grams of Cs-137. It is theregore unfair to say the brain has more power than Nuclear Radiation. QED"
   ]
  },
  {
   "cell_type": "markdown",
   "metadata": {},
   "source": [
    "## Notes\n",
    "\n",
    "Other radioisotopes have different masses, half-lives, and Q-values. Cs-137 was used in this calculation because it has a simple decay chain, with only two paths that take it to the same stable isotope. Maybe the reader can have some fun looking that would outweigh the brain at the same power output."
   ]
  },
  {
   "cell_type": "markdown",
   "metadata": {},
   "source": [
    "Follow me on Twitter! https://twitter.com/twohundredMEV"
   ]
  }
 ],
 "metadata": {
  "kernelspec": {
   "display_name": "Python 3",
   "language": "python",
   "name": "python3"
  },
  "language_info": {
   "codemirror_mode": {
    "name": "ipython",
    "version": 3
   },
   "file_extension": ".py",
   "mimetype": "text/x-python",
   "name": "python",
   "nbconvert_exporter": "python",
   "pygments_lexer": "ipython3",
   "version": "3.7.3"
  }
 },
 "nbformat": 4,
 "nbformat_minor": 2
}
